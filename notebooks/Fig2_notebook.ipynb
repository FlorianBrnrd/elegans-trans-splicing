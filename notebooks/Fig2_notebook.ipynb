{
 "cells": [
  {
   "cell_type": "markdown",
   "id": "32fb4cb2",
   "metadata": {},
   "source": [
    "# Figure 2: Spliced leader usage frequency"
   ]
  },
  {
   "cell_type": "markdown",
   "id": "8ce1d9f2",
   "metadata": {},
   "source": [
    "**Summary:**<br>\n",
    "\n",
    "This notebook compiles the scripts that were used to generate the Figure 2.\n",
    "\n",
    "- **Panel b:** Measure of total SL1 and SL2 variants detected in our reads"
   ]
  },
  {
   "cell_type": "markdown",
   "id": "1fb406e5",
   "metadata": {
    "execution": {
     "iopub.execute_input": "2022-01-31T17:34:03.500891Z",
     "iopub.status.busy": "2022-01-31T17:34:03.488799Z",
     "iopub.status.idle": "2022-01-31T17:34:03.725465Z",
     "shell.execute_reply": "2022-01-31T17:34:03.715320Z",
     "shell.execute_reply.started": "2022-01-31T17:34:03.497774Z"
    }
   },
   "source": [
    "---\n",
    "<br>\n",
    "\n"
   ]
  },
  {
   "cell_type": "markdown",
   "id": "a89150e4",
   "metadata": {},
   "source": [
    "## Import libraries"
   ]
  },
  {
   "cell_type": "code",
   "execution_count": 1,
   "id": "a647c5f1",
   "metadata": {
    "execution": {
     "iopub.execute_input": "2022-04-12T16:15:31.826476Z",
     "iopub.status.busy": "2022-04-12T16:15:31.826208Z",
     "iopub.status.idle": "2022-04-12T16:15:34.556083Z",
     "shell.execute_reply": "2022-04-12T16:15:34.555172Z",
     "shell.execute_reply.started": "2022-04-12T16:15:31.826449Z"
    }
   },
   "outputs": [],
   "source": [
    "import pandas as pd\n",
    "import numpy as np\n",
    "import seaborn as sns\n",
    "import matplotlib.pyplot as plt\n",
    "import matplotlib\n",
    "from matplotlib import cm"
   ]
  },
  {
   "cell_type": "markdown",
   "id": "7923536d",
   "metadata": {},
   "source": [
    "## Settings for saving figures as pdf"
   ]
  },
  {
   "cell_type": "code",
   "execution_count": 2,
   "id": "abf6f75d",
   "metadata": {
    "execution": {
     "iopub.execute_input": "2022-04-12T16:15:34.558292Z",
     "iopub.status.busy": "2022-04-12T16:15:34.557979Z",
     "iopub.status.idle": "2022-04-12T16:15:34.563447Z",
     "shell.execute_reply": "2022-04-12T16:15:34.562158Z",
     "shell.execute_reply.started": "2022-04-12T16:15:34.558253Z"
    }
   },
   "outputs": [],
   "source": [
    "matplotlib.rcParams['pdf.fonttype'] = 42\n",
    "matplotlib.rcParams['ps.fonttype'] = 42"
   ]
  },
  {
   "cell_type": "markdown",
   "id": "c2968605",
   "metadata": {},
   "source": [
    "## Opening Dataset file"
   ]
  },
  {
   "cell_type": "code",
   "execution_count": 3,
   "id": "17b3168b",
   "metadata": {
    "execution": {
     "iopub.execute_input": "2022-04-12T16:15:34.565748Z",
     "iopub.status.busy": "2022-04-12T16:15:34.565342Z",
     "iopub.status.idle": "2022-04-12T16:16:19.709454Z",
     "shell.execute_reply": "2022-04-12T16:16:19.700249Z",
     "shell.execute_reply.started": "2022-04-12T16:15:34.565705Z"
    }
   },
   "outputs": [],
   "source": [
    "# Open dataset generated as part of the pre-processing step\n",
    "\n",
    "dataset = pd.read_csv('dataset_+SL_+hairpin.tsv', sep='\\t')"
   ]
  },
  {
   "cell_type": "markdown",
   "id": "18ef226e",
   "metadata": {},
   "source": [
    "----"
   ]
  },
  {
   "cell_type": "markdown",
   "id": "9fdbfb53",
   "metadata": {},
   "source": [
    "<br>"
   ]
  },
  {
   "cell_type": "markdown",
   "id": "090092ad",
   "metadata": {},
   "source": [
    "# Panel b: Measure of SL1 and SL2 variants detect in sequencing experiments"
   ]
  },
  {
   "cell_type": "code",
   "execution_count": 4,
   "id": "fd97b5dc",
   "metadata": {
    "execution": {
     "iopub.execute_input": "2022-04-12T16:16:19.722605Z",
     "iopub.status.busy": "2022-04-12T16:16:19.722079Z",
     "iopub.status.idle": "2022-04-12T16:16:41.792037Z",
     "shell.execute_reply": "2022-04-12T16:16:41.788171Z",
     "shell.execute_reply.started": "2022-04-12T16:16:19.722546Z"
    }
   },
   "outputs": [],
   "source": [
    "# Sense reads obtained in the SL1_1 experiment are not taken in account\n",
    "# this avoid the introduction of SL1 sequence that would result from the use of the SL1 primer during 2nd strand synthesis\n",
    "\n",
    "data = pd.concat([dataset[(dataset['run'] != 'SL1_1')], \n",
    "                  dataset[(dataset['run'] == 'SL1_1') & (dataset['read_orientation'] == 'antisense')]])"
   ]
  },
  {
   "cell_type": "code",
   "execution_count": 5,
   "id": "4189d477",
   "metadata": {
    "execution": {
     "iopub.execute_input": "2022-04-12T16:16:41.802098Z",
     "iopub.status.busy": "2022-04-12T16:16:41.801695Z",
     "iopub.status.idle": "2022-04-12T16:16:54.480018Z",
     "shell.execute_reply": "2022-04-12T16:16:54.478862Z",
     "shell.execute_reply.started": "2022-04-12T16:16:41.802046Z"
    }
   },
   "outputs": [
    {
     "data": {
      "text/html": [
       "<div>\n",
       "<style scoped>\n",
       "    .dataframe tbody tr th:only-of-type {\n",
       "        vertical-align: middle;\n",
       "    }\n",
       "\n",
       "    .dataframe tbody tr th {\n",
       "        vertical-align: top;\n",
       "    }\n",
       "\n",
       "    .dataframe thead th {\n",
       "        text-align: right;\n",
       "    }\n",
       "</style>\n",
       "<table border=\"1\" class=\"dataframe\">\n",
       "  <thead>\n",
       "    <tr style=\"text-align: right;\">\n",
       "      <th></th>\n",
       "      <th>count</th>\n",
       "    </tr>\n",
       "  </thead>\n",
       "  <tbody>\n",
       "    <tr>\n",
       "      <th>SL.X</th>\n",
       "      <td>37</td>\n",
       "    </tr>\n",
       "    <tr>\n",
       "      <th>SL1</th>\n",
       "      <td>2240879</td>\n",
       "    </tr>\n",
       "    <tr>\n",
       "      <th>SL2.1</th>\n",
       "      <td>32785</td>\n",
       "    </tr>\n",
       "    <tr>\n",
       "      <th>SL2.10</th>\n",
       "      <td>6819</td>\n",
       "    </tr>\n",
       "    <tr>\n",
       "      <th>SL2.12</th>\n",
       "      <td>9459</td>\n",
       "    </tr>\n",
       "    <tr>\n",
       "      <th>SL2.14</th>\n",
       "      <td>7424</td>\n",
       "    </tr>\n",
       "    <tr>\n",
       "      <th>SL2.15</th>\n",
       "      <td>6711</td>\n",
       "    </tr>\n",
       "    <tr>\n",
       "      <th>SL2.16</th>\n",
       "      <td>10105</td>\n",
       "    </tr>\n",
       "    <tr>\n",
       "      <th>SL2.17</th>\n",
       "      <td>4856</td>\n",
       "    </tr>\n",
       "    <tr>\n",
       "      <th>SL2.18</th>\n",
       "      <td>13166</td>\n",
       "    </tr>\n",
       "    <tr>\n",
       "      <th>SL2.5</th>\n",
       "      <td>13597</td>\n",
       "    </tr>\n",
       "    <tr>\n",
       "      <th>SL2.8</th>\n",
       "      <td>29930</td>\n",
       "    </tr>\n",
       "    <tr>\n",
       "      <th>SL2.9</th>\n",
       "      <td>7508</td>\n",
       "    </tr>\n",
       "    <tr>\n",
       "      <th>SL2.X</th>\n",
       "      <td>28810</td>\n",
       "    </tr>\n",
       "    <tr>\n",
       "      <th>Total</th>\n",
       "      <td>2412086</td>\n",
       "    </tr>\n",
       "  </tbody>\n",
       "</table>\n",
       "</div>"
      ],
      "text/plain": [
       "          count\n",
       "SL.X         37\n",
       "SL1     2240879\n",
       "SL2.1     32785\n",
       "SL2.10     6819\n",
       "SL2.12     9459\n",
       "SL2.14     7424\n",
       "SL2.15     6711\n",
       "SL2.16    10105\n",
       "SL2.17     4856\n",
       "SL2.18    13166\n",
       "SL2.5     13597\n",
       "SL2.8     29930\n",
       "SL2.9      7508\n",
       "SL2.X     28810\n",
       "Total   2412086"
      ]
     },
     "execution_count": 5,
     "metadata": {},
     "output_type": "execute_result"
    }
   ],
   "source": [
    "# count all rows with robust variant SL values\n",
    "sl_count = pd.DataFrame(data[(data['ROBUST_VARIANT']=='FOUND')]['SL'].value_counts())\n",
    "\n",
    "\n",
    "# now count all unique SL values and consider uncertain variants as SL2.X\n",
    "\n",
    "count = pd.DataFrame()\n",
    "count.loc['Total','count']=0\n",
    "count.loc['SL.X','count']=0\n",
    "count.loc['SL2.X','count']=0\n",
    "\n",
    "for SL, row in sl_count.iterrows():\n",
    "    \n",
    "    # add to total\n",
    "    count.loc['Total','count'] = count.loc['Total','count'] + row['SL']\n",
    "    \n",
    "    # if reads matched for SL1 and any SL2 variant -> added to SL.X\n",
    "    if 'SL1' in SL and 'SL2' in SL:\n",
    "        count.loc['SL.X','count'] = count.loc['SL.X','count'] + row['SL']\n",
    "    \n",
    "    else:\n",
    "        \n",
    "        # reads with several SL2 matchs who scored the same -> added to SL2.X\n",
    "        if '/' in SL:\n",
    "            count.loc['SL2.X','count'] = count.loc['SL2.X','count'] + row['SL']\n",
    "\n",
    "        # unique SL1 or SL2 variant detected\n",
    "        else:\n",
    "            count.loc[SL,'count'] = row['SL']\n",
    "\n",
    "    \n",
    "# clean up resulting dataframe\n",
    "count['count'] = count['count'].astype(int)\n",
    "count = count.sort_index()\n",
    "\n",
    "count"
   ]
  },
  {
   "cell_type": "code",
   "execution_count": 6,
   "id": "16677979",
   "metadata": {
    "execution": {
     "iopub.execute_input": "2022-04-12T16:16:54.482837Z",
     "iopub.status.busy": "2022-04-12T16:16:54.482487Z",
     "iopub.status.idle": "2022-04-12T16:16:54.568189Z",
     "shell.execute_reply": "2022-04-12T16:16:54.567008Z",
     "shell.execute_reply.started": "2022-04-12T16:16:54.482806Z"
    }
   },
   "outputs": [
    {
     "data": {
      "text/html": [
       "<div>\n",
       "<style scoped>\n",
       "    .dataframe tbody tr th:only-of-type {\n",
       "        vertical-align: middle;\n",
       "    }\n",
       "\n",
       "    .dataframe tbody tr th {\n",
       "        vertical-align: top;\n",
       "    }\n",
       "\n",
       "    .dataframe thead th {\n",
       "        text-align: right;\n",
       "    }\n",
       "</style>\n",
       "<table border=\"1\" class=\"dataframe\">\n",
       "  <thead>\n",
       "    <tr style=\"text-align: right;\">\n",
       "      <th></th>\n",
       "      <th>SL1</th>\n",
       "      <th>SL2</th>\n",
       "      <th>SL.X</th>\n",
       "    </tr>\n",
       "  </thead>\n",
       "  <tbody>\n",
       "    <tr>\n",
       "      <th>count</th>\n",
       "      <td>2240879</td>\n",
       "      <td>171170</td>\n",
       "      <td>37</td>\n",
       "    </tr>\n",
       "  </tbody>\n",
       "</table>\n",
       "</div>"
      ],
      "text/plain": [
       "           SL1     SL2  SL.X\n",
       "count  2240879  171170    37"
      ]
     },
     "execution_count": 6,
     "metadata": {},
     "output_type": "execute_result"
    }
   ],
   "source": [
    "# Count of SL1 and SL2 reads\n",
    "\n",
    "sl1 = count[count.index.str.contains('SL1')]['count'].sum()\n",
    "slx = count[count.index.str.contains('SL.X')]['count'].sum()\n",
    "sl2 = count[count.index.str.contains('SL2')]['count'].sum()\n",
    "\n",
    "SL_counts = pd.DataFrame.from_dict({'SL1':sl1, 'SL2':sl2,'SL.X':slx}, orient='index', columns=['count']).T\n",
    "\n",
    "SL_counts"
   ]
  },
  {
   "cell_type": "code",
   "execution_count": 7,
   "id": "f3a96b0d",
   "metadata": {
    "execution": {
     "iopub.execute_input": "2022-04-12T16:16:54.570024Z",
     "iopub.status.busy": "2022-04-12T16:16:54.569768Z",
     "iopub.status.idle": "2022-04-12T16:16:54.597281Z",
     "shell.execute_reply": "2022-04-12T16:16:54.596501Z",
     "shell.execute_reply.started": "2022-04-12T16:16:54.569994Z"
    }
   },
   "outputs": [
    {
     "data": {
      "text/html": [
       "<div>\n",
       "<style scoped>\n",
       "    .dataframe tbody tr th:only-of-type {\n",
       "        vertical-align: middle;\n",
       "    }\n",
       "\n",
       "    .dataframe tbody tr th {\n",
       "        vertical-align: top;\n",
       "    }\n",
       "\n",
       "    .dataframe thead th {\n",
       "        text-align: right;\n",
       "    }\n",
       "</style>\n",
       "<table border=\"1\" class=\"dataframe\">\n",
       "  <thead>\n",
       "    <tr style=\"text-align: right;\">\n",
       "      <th></th>\n",
       "      <th>SL2.1</th>\n",
       "      <th>SL2.5</th>\n",
       "      <th>SL2.8</th>\n",
       "      <th>SL2.9</th>\n",
       "      <th>SL2.10</th>\n",
       "      <th>SL2.12</th>\n",
       "      <th>SL2.14</th>\n",
       "      <th>SL2.15</th>\n",
       "      <th>SL2.16</th>\n",
       "      <th>SL2.17</th>\n",
       "      <th>SL2.18</th>\n",
       "      <th>SL2.X</th>\n",
       "    </tr>\n",
       "  </thead>\n",
       "  <tbody>\n",
       "    <tr>\n",
       "      <th>count</th>\n",
       "      <td>32785</td>\n",
       "      <td>13597</td>\n",
       "      <td>29930</td>\n",
       "      <td>7508</td>\n",
       "      <td>6819</td>\n",
       "      <td>9459</td>\n",
       "      <td>7424</td>\n",
       "      <td>6711</td>\n",
       "      <td>10105</td>\n",
       "      <td>4856</td>\n",
       "      <td>13166</td>\n",
       "      <td>28810</td>\n",
       "    </tr>\n",
       "  </tbody>\n",
       "</table>\n",
       "</div>"
      ],
      "text/plain": [
       "       SL2.1  SL2.5  SL2.8  SL2.9  SL2.10  SL2.12  SL2.14  SL2.15  SL2.16  \\\n",
       "count  32785  13597  29930   7508    6819    9459    7424    6711   10105   \n",
       "\n",
       "       SL2.17  SL2.18  SL2.X  \n",
       "count    4856   13166  28810  "
      ]
     },
     "execution_count": 7,
     "metadata": {},
     "output_type": "execute_result"
    }
   ],
   "source": [
    "# Count of SL2 variants \n",
    "\n",
    "sl2_x = count[count.index=='SL2.X']['count'].sum()\n",
    "sl2_1 = count[count.index=='SL2.1']['count'].sum()\n",
    "sl2_5 = count[count.index=='SL2.5']['count'].sum()\n",
    "sl2_8 = count[count.index=='SL2.8']['count'].sum()\n",
    "sl2_9 = count[count.index=='SL2.9']['count'].sum()\n",
    "sl2_10 = count[count.index=='SL2.10']['count'].sum()\n",
    "sl2_12 = count[count.index=='SL2.12']['count'].sum()\n",
    "sl2_14 = count[count.index=='SL2.14']['count'].sum()\n",
    "sl2_15 = count[count.index=='SL2.15']['count'].sum()\n",
    "sl2_16 = count[count.index=='SL2.16']['count'].sum()\n",
    "sl2_17 = count[count.index=='SL2.17']['count'].sum()\n",
    "sl2_18 = count[count.index=='SL2.18']['count'].sum()\n",
    "\n",
    "\n",
    "var = {'SL2.1':sl2_1, 'SL2.5':sl2_5,'SL2.8':sl2_8, 'SL2.9':sl2_9, 'SL2.10':sl2_10, 'SL2.12':sl2_12,\n",
    "       'SL2.14':sl2_14,'SL2.15':sl2_15, 'SL2.16':sl2_16, 'SL2.17':sl2_17, 'SL2.18':sl2_18, 'SL2.X':sl2_x}\n",
    "\n",
    "SL2variants_counts = pd.DataFrame.from_dict(var, orient='index', columns=['count']).T\n",
    "\n",
    "SL2variants_counts"
   ]
  },
  {
   "cell_type": "code",
   "execution_count": 8,
   "id": "2eecaf7c",
   "metadata": {
    "execution": {
     "iopub.execute_input": "2022-04-12T16:16:54.599580Z",
     "iopub.status.busy": "2022-04-12T16:16:54.599194Z",
     "iopub.status.idle": "2022-04-12T16:16:56.024478Z",
     "shell.execute_reply": "2022-04-12T16:16:56.023587Z",
     "shell.execute_reply.started": "2022-04-12T16:16:54.599549Z"
    }
   },
   "outputs": [
    {
     "data": {
      "image/png": "[encoded data removed]",
      "text/plain": [
       "<Figure size 900x600 with 2 Axes>"
      ]
     },
     "metadata": {
      "needs_background": "light"
     },
     "output_type": "display_data"
    }
   ],
   "source": [
    "%matplotlib inline\n",
    "\n",
    "fig, ax = plt.subplots(figsize=(6,4), ncols=2, sharey=False, dpi=150)\n",
    "\n",
    "SL_counts.plot(kind='bar', stacked=True, ax=ax[0], rot=0, width=0.3,\n",
    "               color=['#ff9408','#2c6fbb','#ffffff'], linewidth=0.5, edgecolor='black')\n",
    "\n",
    "ax[0].legend(loc='center left', bbox_to_anchor=(1, 0.5))\n",
    "\n",
    "\n",
    "SL2variants_counts.plot(kind='bar', stacked=True, ax=ax[1],rot=0, width=0.3,\n",
    "                        color=cm.Blues_r(np.linspace(0.1, 0.9, 12)), linewidth=0.5, edgecolor='black')\n",
    "\n",
    "ax[1].legend(loc='center left', bbox_to_anchor=(1, 0.5))\n",
    "\n",
    "# general plot settings\n",
    "plt.subplots_adjust(left=0.1, bottom=None, right=0.98, top=None, wspace=1, hspace=None)\n",
    "plt.tight_layout()\n",
    "\n",
    "# save\n",
    "plt.savefig('Fig2.b-SL1_&_SL2reads.pdf', dpi=800, bbox_inches='tight')"
   ]
  },
  {
   "cell_type": "markdown",
   "id": "d1c3e18e",
   "metadata": {},
   "source": [
    "<font size=\"4\">**Figure 2.b:**<br></font>\n",
    "Quantification of reads with high quality splice leader sequence reveals the usage frequency of each of the sls genes. SL2.X indicates reads for which the specific SL2 genes could not be unambiguously identified."
   ]
  },
  {
   "cell_type": "markdown",
   "id": "c5765f9b",
   "metadata": {
    "execution": {
     "iopub.execute_input": "2022-02-02T20:34:15.491512Z",
     "iopub.status.busy": "2022-02-02T20:34:15.486882Z",
     "iopub.status.idle": "2022-02-02T20:34:15.530464Z",
     "shell.execute_reply": "2022-02-02T20:34:15.527509Z",
     "shell.execute_reply.started": "2022-02-02T20:34:15.491392Z"
    }
   },
   "source": [
    "<br>"
   ]
  }
 ],
 "metadata": {
  "kernelspec": {
   "display_name": "Python 3",
   "language": "python",
   "name": "python3"
  },
  "language_info": {
   "codemirror_mode": {
    "name": "ipython",
    "version": 3
   },
   "file_extension": ".py",
   "mimetype": "text/x-python",
   "name": "python",
   "nbconvert_exporter": "python",
   "pygments_lexer": "ipython3",
   "version": "3.6.12"
  }
 },
 "nbformat": 4,
 "nbformat_minor": 5
}