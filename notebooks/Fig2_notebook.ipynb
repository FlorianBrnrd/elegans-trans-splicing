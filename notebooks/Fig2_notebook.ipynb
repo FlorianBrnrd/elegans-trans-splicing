{
 "cells": [
  {
   "cell_type": "markdown",
   "id": "32fb4cb2",
   "metadata": {},
   "source": [
    "# Figure 2: Spliced leader usage frequency"
   ]
  },
  {
   "cell_type": "markdown",
   "id": "8ce1d9f2",
   "metadata": {},
   "source": [
    "**Summary:**<br>\n",
    "\n",
    "This notebook compiles the scripts that were used to generate the Figure 2.\n",
    "\n",
    "- **Panel b:** Measure of total SL1 and SL2 variants detected in our reads"
   ]
  },
  {
   "cell_type": "markdown",
   "id": "1fb406e5",
   "metadata": {
    "execution": {
     "iopub.execute_input": "2022-01-31T17:34:03.500891Z",
     "iopub.status.busy": "2022-01-31T17:34:03.488799Z",
     "iopub.status.idle": "2022-01-31T17:34:03.725465Z",
     "shell.execute_reply": "2022-01-31T17:34:03.715320Z",
     "shell.execute_reply.started": "2022-01-31T17:34:03.497774Z"
    }
   },
   "source": [
    "---\n",
    "<br>\n",
    "\n"
   ]
  },
  {
   "cell_type": "markdown",
   "id": "a89150e4",
   "metadata": {},
   "source": [
    "## Import libraries"
   ]
  },
  {
   "cell_type": "code",
   "execution_count": 1,
   "id": "a647c5f1",
   "metadata": {
    "execution": {
     "iopub.execute_input": "2022-12-13T16:50:39.072204Z",
     "iopub.status.busy": "2022-12-13T16:50:39.071858Z",
     "iopub.status.idle": "2022-12-13T16:50:44.425416Z",
     "shell.execute_reply": "2022-12-13T16:50:44.424471Z",
     "shell.execute_reply.started": "2022-12-13T16:50:39.072133Z"
    },
    "tags": []
   },
   "outputs": [],
   "source": [
    "import pandas as pd\n",
    "import numpy as np\n",
    "\n",
    "import seaborn as sns\n",
    "import matplotlib as mpl\n",
    "import matplotlib.pyplot as plt\n",
    "from matplotlib import cm"
   ]
  },
  {
   "cell_type": "markdown",
   "id": "7923536d",
   "metadata": {},
   "source": [
    "## Settings for saving figures as pdf"
   ]
  },
  {
   "cell_type": "code",
   "execution_count": 2,
   "id": "abf6f75d",
   "metadata": {
    "execution": {
     "iopub.execute_input": "2022-12-13T16:50:44.429405Z",
     "iopub.status.busy": "2022-12-13T16:50:44.428818Z",
     "iopub.status.idle": "2022-12-13T16:50:44.434648Z",
     "shell.execute_reply": "2022-12-13T16:50:44.433325Z",
     "shell.execute_reply.started": "2022-12-13T16:50:44.429364Z"
    },
    "tags": []
   },
   "outputs": [],
   "source": [
    "mpl.rcParams['pdf.fonttype'] = 42\n",
    "mpl.rcParams['ps.fonttype'] = 42"
   ]
  },
  {
   "cell_type": "markdown",
   "id": "a5baf52d-2ced-4fe1-9630-ca59d80b9906",
   "metadata": {},
   "source": [
    "## Set environmental constants"
   ]
  },
  {
   "cell_type": "code",
   "execution_count": 3,
   "id": "706cc78a-04e1-413f-a330-2a7df7a11908",
   "metadata": {
    "execution": {
     "iopub.execute_input": "2022-12-13T16:50:44.438390Z",
     "iopub.status.busy": "2022-12-13T16:50:44.436724Z",
     "iopub.status.idle": "2022-12-13T16:50:44.446064Z",
     "shell.execute_reply": "2022-12-13T16:50:44.444718Z",
     "shell.execute_reply.started": "2022-12-13T16:50:44.438346Z"
    }
   },
   "outputs": [],
   "source": [
    "# Set path where files are stored\n",
    "path = '/Volumes/elegans/rna_sequencing'"
   ]
  },
  {
   "cell_type": "markdown",
   "id": "c2968605",
   "metadata": {
    "tags": []
   },
   "source": [
    "## Opening Dataset file"
   ]
  },
  {
   "cell_type": "code",
   "execution_count": 4,
   "id": "17b3168b",
   "metadata": {
    "execution": {
     "iopub.execute_input": "2022-12-13T16:50:44.449385Z",
     "iopub.status.busy": "2022-12-13T16:50:44.448576Z",
     "iopub.status.idle": "2022-12-13T16:53:03.334174Z",
     "shell.execute_reply": "2022-12-13T16:53:03.328218Z",
     "shell.execute_reply.started": "2022-12-13T16:50:44.449331Z"
    },
    "tags": []
   },
   "outputs": [],
   "source": [
    "# Open dataset generated as part of the pre-processing step\n",
    "dataset = pd.read_csv(f'{path}/dataset_+SSP+SL+HAIRPIN.tsv', sep='\\t')"
   ]
  },
  {
   "cell_type": "markdown",
   "id": "18ef226e",
   "metadata": {},
   "source": [
    "----"
   ]
  },
  {
   "cell_type": "markdown",
   "id": "9fdbfb53",
   "metadata": {},
   "source": [
    "<br>"
   ]
  },
  {
   "cell_type": "markdown",
   "id": "090092ad",
   "metadata": {},
   "source": [
    "# Panel b: Measure of SL1 and SL2 variants detect in sequencing experiments"
   ]
  },
  {
   "cell_type": "code",
   "execution_count": 5,
   "id": "fd97b5dc",
   "metadata": {
    "execution": {
     "iopub.execute_input": "2022-12-13T16:53:03.468184Z",
     "iopub.status.busy": "2022-12-13T16:53:03.431723Z",
     "iopub.status.idle": "2022-12-13T16:55:27.892963Z",
     "shell.execute_reply": "2022-12-13T16:55:27.884630Z",
     "shell.execute_reply.started": "2022-12-13T16:53:03.468111Z"
    },
    "tags": []
   },
   "outputs": [],
   "source": [
    "# Sense reads obtained in the SL1_1 experiment are not taken in account\n",
    "# this avoid the introduction of SL1 sequence that would result from the use of the SL1 primer during 2nd strand synthesis\n",
    "\n",
    "data = pd.concat([dataset[(dataset['run'] != 'SL1_1')], \n",
    "                  dataset[(dataset['run'] == 'SL1_1') & (dataset['read_orientation'] == 'antisense')]])"
   ]
  },
  {
   "cell_type": "code",
   "execution_count": 6,
   "id": "4189d477",
   "metadata": {
    "execution": {
     "iopub.execute_input": "2022-12-13T16:55:27.913930Z",
     "iopub.status.busy": "2022-12-13T16:55:27.908954Z",
     "iopub.status.idle": "2022-12-13T16:57:21.001771Z",
     "shell.execute_reply": "2022-12-13T16:57:20.996724Z",
     "shell.execute_reply.started": "2022-12-13T16:55:27.913867Z"
    },
    "tags": []
   },
   "outputs": [
    {
     "data": {
      "text/html": [
       "<div>\n",
       "<style scoped>\n",
       "    .dataframe tbody tr th:only-of-type {\n",
       "        vertical-align: middle;\n",
       "    }\n",
       "\n",
       "    .dataframe tbody tr th {\n",
       "        vertical-align: top;\n",
       "    }\n",
       "\n",
       "    .dataframe thead th {\n",
       "        text-align: right;\n",
       "    }\n",
       "</style>\n",
       "<table border=\"1\" class=\"dataframe\">\n",
       "  <thead>\n",
       "    <tr style=\"text-align: right;\">\n",
       "      <th></th>\n",
       "      <th>count</th>\n",
       "    </tr>\n",
       "  </thead>\n",
       "  <tbody>\n",
       "    <tr>\n",
       "      <th>SL.X</th>\n",
       "      <td>79</td>\n",
       "    </tr>\n",
       "    <tr>\n",
       "      <th>SL1</th>\n",
       "      <td>2472462</td>\n",
       "    </tr>\n",
       "    <tr>\n",
       "      <th>SL2.1</th>\n",
       "      <td>39731</td>\n",
       "    </tr>\n",
       "    <tr>\n",
       "      <th>SL2.10</th>\n",
       "      <td>6917</td>\n",
       "    </tr>\n",
       "    <tr>\n",
       "      <th>SL2.12</th>\n",
       "      <td>11465</td>\n",
       "    </tr>\n",
       "    <tr>\n",
       "      <th>SL2.14</th>\n",
       "      <td>7438</td>\n",
       "    </tr>\n",
       "    <tr>\n",
       "      <th>SL2.15</th>\n",
       "      <td>6739</td>\n",
       "    </tr>\n",
       "    <tr>\n",
       "      <th>SL2.16</th>\n",
       "      <td>10988</td>\n",
       "    </tr>\n",
       "    <tr>\n",
       "      <th>SL2.17</th>\n",
       "      <td>5984</td>\n",
       "    </tr>\n",
       "    <tr>\n",
       "      <th>SL2.18</th>\n",
       "      <td>14997</td>\n",
       "    </tr>\n",
       "    <tr>\n",
       "      <th>SL2.5</th>\n",
       "      <td>13704</td>\n",
       "    </tr>\n",
       "    <tr>\n",
       "      <th>SL2.8</th>\n",
       "      <td>27743</td>\n",
       "    </tr>\n",
       "    <tr>\n",
       "      <th>SL2.9</th>\n",
       "      <td>7555</td>\n",
       "    </tr>\n",
       "    <tr>\n",
       "      <th>SL2.X</th>\n",
       "      <td>33627</td>\n",
       "    </tr>\n",
       "    <tr>\n",
       "      <th>Total</th>\n",
       "      <td>2659429</td>\n",
       "    </tr>\n",
       "  </tbody>\n",
       "</table>\n",
       "</div>"
      ],
      "text/plain": [
       "          count\n",
       "SL.X         79\n",
       "SL1     2472462\n",
       "SL2.1     39731\n",
       "SL2.10     6917\n",
       "SL2.12    11465\n",
       "SL2.14     7438\n",
       "SL2.15     6739\n",
       "SL2.16    10988\n",
       "SL2.17     5984\n",
       "SL2.18    14997\n",
       "SL2.5     13704\n",
       "SL2.8     27743\n",
       "SL2.9      7555\n",
       "SL2.X     33627\n",
       "Total   2659429"
      ]
     },
     "execution_count": 6,
     "metadata": {},
     "output_type": "execute_result"
    }
   ],
   "source": [
    "# count all rows with robust variant SL values\n",
    "sl_count = pd.DataFrame(data[(data['VARIANT_SL_FOUND']=='FOUND')]['SL'].value_counts())\n",
    "\n",
    "\n",
    "# now count all unique SL values and consider uncertain variants as SL2.X\n",
    "\n",
    "count = pd.DataFrame()\n",
    "count.loc['Total','count']=0\n",
    "count.loc['SL.X','count']=0\n",
    "count.loc['SL2.X','count']=0\n",
    "\n",
    "for SL, row in sl_count.iterrows():\n",
    "    \n",
    "    # add to total\n",
    "    count.loc['Total','count'] = count.loc['Total','count'] + row['SL']\n",
    "    \n",
    "    # if reads matched for SL1 and any SL2 variant -> added to SL.X\n",
    "    if 'SL1' in SL and 'SL2' in SL:\n",
    "        count.loc['SL.X','count'] = count.loc['SL.X','count'] + row['SL']\n",
    "    \n",
    "    else:\n",
    "        \n",
    "        # reads with several SL2 matchs who scored the same -> added to SL2.X\n",
    "        if '/' in SL:\n",
    "            count.loc['SL2.X','count'] = count.loc['SL2.X','count'] + row['SL']\n",
    "\n",
    "        # unique SL1 or SL2 variant detected\n",
    "        else:\n",
    "            count.loc[SL,'count'] = row['SL']\n",
    "\n",
    "    \n",
    "# clean up resulting dataframe\n",
    "count['count'] = count['count'].astype(int)\n",
    "count = count.sort_index()\n",
    "\n",
    "count"
   ]
  },
  {
   "cell_type": "code",
   "execution_count": 7,
   "id": "16677979",
   "metadata": {
    "execution": {
     "iopub.execute_input": "2022-12-13T16:57:21.033747Z",
     "iopub.status.busy": "2022-12-13T16:57:21.032181Z",
     "iopub.status.idle": "2022-12-13T16:57:21.144631Z",
     "shell.execute_reply": "2022-12-13T16:57:21.140543Z",
     "shell.execute_reply.started": "2022-12-13T16:57:21.033698Z"
    },
    "tags": []
   },
   "outputs": [
    {
     "data": {
      "text/html": [
       "<div>\n",
       "<style scoped>\n",
       "    .dataframe tbody tr th:only-of-type {\n",
       "        vertical-align: middle;\n",
       "    }\n",
       "\n",
       "    .dataframe tbody tr th {\n",
       "        vertical-align: top;\n",
       "    }\n",
       "\n",
       "    .dataframe thead th {\n",
       "        text-align: right;\n",
       "    }\n",
       "</style>\n",
       "<table border=\"1\" class=\"dataframe\">\n",
       "  <thead>\n",
       "    <tr style=\"text-align: right;\">\n",
       "      <th></th>\n",
       "      <th>SL1</th>\n",
       "      <th>SL2</th>\n",
       "      <th>SL.X</th>\n",
       "    </tr>\n",
       "  </thead>\n",
       "  <tbody>\n",
       "    <tr>\n",
       "      <th>count</th>\n",
       "      <td>2472462</td>\n",
       "      <td>186888</td>\n",
       "      <td>79</td>\n",
       "    </tr>\n",
       "  </tbody>\n",
       "</table>\n",
       "</div>"
      ],
      "text/plain": [
       "           SL1     SL2  SL.X\n",
       "count  2472462  186888    79"
      ]
     },
     "execution_count": 7,
     "metadata": {},
     "output_type": "execute_result"
    }
   ],
   "source": [
    "# Count of SL1 and SL2 reads\n",
    "\n",
    "sl1 = count[count.index.str.contains('SL1')]['count'].sum()\n",
    "slx = count[count.index.str.contains('SL.X')]['count'].sum()\n",
    "sl2 = count[count.index.str.contains('SL2')]['count'].sum()\n",
    "\n",
    "SL_counts = pd.DataFrame.from_dict({'SL1':sl1, 'SL2':sl2,'SL.X':slx}, orient='index', columns=['count']).T\n",
    "\n",
    "SL_counts"
   ]
  },
  {
   "cell_type": "code",
   "execution_count": 8,
   "id": "f3a96b0d",
   "metadata": {
    "execution": {
     "iopub.execute_input": "2022-12-13T16:57:21.148772Z",
     "iopub.status.busy": "2022-12-13T16:57:21.147272Z",
     "iopub.status.idle": "2022-12-13T16:57:21.248539Z",
     "shell.execute_reply": "2022-12-13T16:57:21.244156Z",
     "shell.execute_reply.started": "2022-12-13T16:57:21.148395Z"
    },
    "tags": []
   },
   "outputs": [
    {
     "data": {
      "text/html": [
       "<div>\n",
       "<style scoped>\n",
       "    .dataframe tbody tr th:only-of-type {\n",
       "        vertical-align: middle;\n",
       "    }\n",
       "\n",
       "    .dataframe tbody tr th {\n",
       "        vertical-align: top;\n",
       "    }\n",
       "\n",
       "    .dataframe thead th {\n",
       "        text-align: right;\n",
       "    }\n",
       "</style>\n",
       "<table border=\"1\" class=\"dataframe\">\n",
       "  <thead>\n",
       "    <tr style=\"text-align: right;\">\n",
       "      <th></th>\n",
       "      <th>SL2.1</th>\n",
       "      <th>SL2.5</th>\n",
       "      <th>SL2.8</th>\n",
       "      <th>SL2.9</th>\n",
       "      <th>SL2.10</th>\n",
       "      <th>SL2.12</th>\n",
       "      <th>SL2.14</th>\n",
       "      <th>SL2.15</th>\n",
       "      <th>SL2.16</th>\n",
       "      <th>SL2.17</th>\n",
       "      <th>SL2.18</th>\n",
       "      <th>SL2.X</th>\n",
       "    </tr>\n",
       "  </thead>\n",
       "  <tbody>\n",
       "    <tr>\n",
       "      <th>count</th>\n",
       "      <td>39731</td>\n",
       "      <td>13704</td>\n",
       "      <td>27743</td>\n",
       "      <td>7555</td>\n",
       "      <td>6917</td>\n",
       "      <td>11465</td>\n",
       "      <td>7438</td>\n",
       "      <td>6739</td>\n",
       "      <td>10988</td>\n",
       "      <td>5984</td>\n",
       "      <td>14997</td>\n",
       "      <td>33627</td>\n",
       "    </tr>\n",
       "  </tbody>\n",
       "</table>\n",
       "</div>"
      ],
      "text/plain": [
       "       SL2.1  SL2.5  SL2.8  SL2.9  SL2.10  SL2.12  SL2.14  SL2.15  SL2.16  \\\n",
       "count  39731  13704  27743   7555    6917   11465    7438    6739   10988   \n",
       "\n",
       "       SL2.17  SL2.18  SL2.X  \n",
       "count    5984   14997  33627  "
      ]
     },
     "execution_count": 8,
     "metadata": {},
     "output_type": "execute_result"
    }
   ],
   "source": [
    "# Count of SL2 variants \n",
    "\n",
    "sl2_x = count[count.index=='SL2.X']['count'].sum()\n",
    "sl2_1 = count[count.index=='SL2.1']['count'].sum()\n",
    "sl2_5 = count[count.index=='SL2.5']['count'].sum()\n",
    "sl2_8 = count[count.index=='SL2.8']['count'].sum()\n",
    "sl2_9 = count[count.index=='SL2.9']['count'].sum()\n",
    "sl2_10 = count[count.index=='SL2.10']['count'].sum()\n",
    "sl2_12 = count[count.index=='SL2.12']['count'].sum()\n",
    "sl2_14 = count[count.index=='SL2.14']['count'].sum()\n",
    "sl2_15 = count[count.index=='SL2.15']['count'].sum()\n",
    "sl2_16 = count[count.index=='SL2.16']['count'].sum()\n",
    "sl2_17 = count[count.index=='SL2.17']['count'].sum()\n",
    "sl2_18 = count[count.index=='SL2.18']['count'].sum()\n",
    "\n",
    "\n",
    "var = {'SL2.1':sl2_1, 'SL2.5':sl2_5,'SL2.8':sl2_8, 'SL2.9':sl2_9, 'SL2.10':sl2_10, 'SL2.12':sl2_12,\n",
    "       'SL2.14':sl2_14,'SL2.15':sl2_15, 'SL2.16':sl2_16, 'SL2.17':sl2_17, 'SL2.18':sl2_18, 'SL2.X':sl2_x}\n",
    "\n",
    "SL2variants_counts = pd.DataFrame.from_dict(var, orient='index', columns=['count']).T\n",
    "\n",
    "SL2variants_counts"
   ]
  },
  {
   "cell_type": "code",
   "execution_count": 9,
   "id": "2eecaf7c",
   "metadata": {
    "execution": {
     "iopub.execute_input": "2022-12-13T16:57:21.256287Z",
     "iopub.status.busy": "2022-12-13T16:57:21.253594Z",
     "iopub.status.idle": "2022-12-13T16:57:31.066216Z",
     "shell.execute_reply": "2022-12-13T16:57:31.064452Z",
     "shell.execute_reply.started": "2022-12-13T16:57:21.256234Z"
    },
    "tags": []
   },
   "outputs": [
    {
     "data": {
      "image/png": "[encoded data removed]",
      "text/plain": [
       "<Figure size 900x600 with 2 Axes>"
      ]
     },
     "metadata": {
      "needs_background": "light"
     },
     "output_type": "display_data"
    }
   ],
   "source": [
    "%matplotlib inline\n",
    "\n",
    "fig, ax = plt.subplots(figsize=(6,4), ncols=2, sharey=False, dpi=150)\n",
    "\n",
    "SL_counts.plot(kind='bar', stacked=True, ax=ax[0], rot=0, width=0.3,\n",
    "               color=['#ff9408','#2c6fbb','#ffffff'], linewidth=0.5, edgecolor='black')\n",
    "\n",
    "ax[0].legend(loc='center left', bbox_to_anchor=(1, 0.5))\n",
    "\n",
    "\n",
    "SL2variants_counts.plot(kind='bar', stacked=True, ax=ax[1],rot=0, width=0.3,\n",
    "                        color=cm.Blues_r(np.linspace(0.1, 0.9, 12)), linewidth=0.5, edgecolor='black')\n",
    "\n",
    "ax[1].legend(loc='center left', bbox_to_anchor=(1, 0.5))\n",
    "\n",
    "# general plot settings\n",
    "plt.subplots_adjust(left=0.1, bottom=None, right=0.98, top=None, wspace=1, hspace=None)\n",
    "plt.tight_layout()\n",
    "\n",
    "# save\n",
    "plt.savefig('Fig2.b-SL1_&_SL2reads.pdf', dpi=800, bbox_inches='tight')"
   ]
  },
  {
   "cell_type": "markdown",
   "id": "d1c3e18e",
   "metadata": {},
   "source": [
    "<font size=\"4\">**Figure 2.b:**<br></font>\n",
    "Quantification of reads with high quality splice leader sequence reveals the usage frequency of each of the sls genes. SL2.X indicates reads for which the specific SL2 genes could not be unambiguously identified."
   ]
  },
  {
   "cell_type": "markdown",
   "id": "c5765f9b",
   "metadata": {
    "execution": {
     "iopub.execute_input": "2022-02-02T20:34:15.491512Z",
     "iopub.status.busy": "2022-02-02T20:34:15.486882Z",
     "iopub.status.idle": "2022-02-02T20:34:15.530464Z",
     "shell.execute_reply": "2022-02-02T20:34:15.527509Z",
     "shell.execute_reply.started": "2022-02-02T20:34:15.491392Z"
    }
   },
   "source": [
    "<br>"
   ]
  }
 ],
 "metadata": {
  "kernelspec": {
   "display_name": "elegans_transplicing",
   "language": "python",
   "name": "elegans_transplicing"
  },
  "language_info": {
   "codemirror_mode": {
    "name": "ipython",
    "version": 3
   },
   "file_extension": ".py",
   "mimetype": "text/x-python",
   "name": "python",
   "nbconvert_exporter": "python",
   "pygments_lexer": "ipython3",
   "version": "3.7.13"
  },
  "widgets": {
   "application/vnd.jupyter.widget-state+json": {
    "state": {},
    "version_major": 2,
    "version_minor": 0
   }
  }
 },
 "nbformat": 4,
 "nbformat_minor": 5
}
