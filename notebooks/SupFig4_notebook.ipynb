{
 "cells": [
  {
   "cell_type": "markdown",
   "id": "5dd4e5a8-2b7b-4235-9d78-021efd22ca10",
   "metadata": {},
   "source": [
    "# Supplementary Figure 4"
   ]
  },
  {
   "cell_type": "markdown",
   "id": "8a77d556-d07a-47ed-a60a-0e0e97fc7b31",
   "metadata": {},
   "source": [
    "---"
   ]
  },
  {
   "cell_type": "markdown",
   "id": "a938dd9e-61b1-4cef-9101-7974d2be293b",
   "metadata": {},
   "source": [
    "<br>"
   ]
  },
  {
   "cell_type": "markdown",
   "id": "df9c87ab-7014-4d41-b62b-246808a2a13b",
   "metadata": {},
   "source": [
    "## Import libraries"
   ]
  },
  {
   "cell_type": "code",
   "execution_count": 1,
   "id": "895505d7-ea08-4299-b570-0592032c308a",
   "metadata": {
    "execution": {
     "iopub.execute_input": "2022-12-13T09:51:23.875261Z",
     "iopub.status.busy": "2022-12-13T09:51:23.860511Z",
     "iopub.status.idle": "2022-12-13T09:51:30.161271Z",
     "shell.execute_reply": "2022-12-13T09:51:30.160427Z",
     "shell.execute_reply.started": "2022-12-13T09:51:23.869042Z"
    },
    "tags": []
   },
   "outputs": [],
   "source": [
    "import pandas as pd\n",
    "import numpy as np\n",
    "\n",
    "import pysam\n",
    "\n",
    "import seaborn as sns\n",
    "import matplotlib\n",
    "import matplotlib.pyplot as plt\n",
    "from matplotlib.ticker import MultipleLocator"
   ]
  },
  {
   "cell_type": "markdown",
   "id": "d042899e-ecf1-48fe-b3f0-facb90a45ab0",
   "metadata": {},
   "source": [
    "## Settings for saving figures as pdf"
   ]
  },
  {
   "cell_type": "code",
   "execution_count": 2,
   "id": "0b16b309-ca21-4922-918b-9d3a60555d6b",
   "metadata": {
    "execution": {
     "iopub.execute_input": "2022-12-13T09:51:31.677534Z",
     "iopub.status.busy": "2022-12-13T09:51:31.676698Z",
     "iopub.status.idle": "2022-12-13T09:51:31.713227Z",
     "shell.execute_reply": "2022-12-13T09:51:31.698844Z",
     "shell.execute_reply.started": "2022-12-13T09:51:31.677478Z"
    },
    "tags": []
   },
   "outputs": [],
   "source": [
    "matplotlib.rcParams['pdf.fonttype'] = 42\n",
    "matplotlib.rcParams['ps.fonttype'] = 42"
   ]
  },
  {
   "cell_type": "markdown",
   "id": "ffae6884-cdf0-4091-9b5a-6674a21b165a",
   "metadata": {},
   "source": [
    "## Set environmental constants"
   ]
  },
  {
   "cell_type": "code",
   "execution_count": 3,
   "id": "7b27169d-07fd-4f3d-8524-bc385ab6dc63",
   "metadata": {
    "execution": {
     "iopub.execute_input": "2022-12-13T09:51:33.596106Z",
     "iopub.status.busy": "2022-12-13T09:51:33.595724Z",
     "iopub.status.idle": "2022-12-13T09:51:33.601087Z",
     "shell.execute_reply": "2022-12-13T09:51:33.599821Z",
     "shell.execute_reply.started": "2022-12-13T09:51:33.596078Z"
    }
   },
   "outputs": [],
   "source": [
    "# Set path where files are stored\n",
    "path = '/Volumes/elegans/rna_sequencing'"
   ]
  },
  {
   "cell_type": "markdown",
   "id": "7664fad6-4c3b-42fa-adb0-c558318d0f88",
   "metadata": {},
   "source": [
    "---"
   ]
  },
  {
   "cell_type": "markdown",
   "id": "72768d33-e9e0-4232-9048-c878cdb8e2d0",
   "metadata": {},
   "source": [
    "<br>"
   ]
  },
  {
   "cell_type": "markdown",
   "id": "7177f1c0-f69b-4ac3-a280-d0cfba5c602b",
   "metadata": {},
   "source": [
    "# Functions"
   ]
  },
  {
   "cell_type": "code",
   "execution_count": 4,
   "id": "b41c0e90-9474-44f8-ae9d-004dfc4e0667",
   "metadata": {
    "execution": {
     "iopub.execute_input": "2022-12-13T09:51:35.797389Z",
     "iopub.status.busy": "2022-12-13T09:51:35.796337Z",
     "iopub.status.idle": "2022-12-13T09:51:35.808912Z",
     "shell.execute_reply": "2022-12-13T09:51:35.807334Z",
     "shell.execute_reply.started": "2022-12-13T09:51:35.797336Z"
    }
   },
   "outputs": [],
   "source": [
    "# Function for averaging values from a nested list\n",
    "# Allows to get the mean base quality at any given position\n",
    "\n",
    "def avgNestedLists(nested_vals):\n",
    "    \n",
    "    output = []\n",
    "    maximum = 0\n",
    "    for lst in nested_vals:\n",
    "        if len(lst) > maximum:\n",
    "            maximum = len(lst)\n",
    "    \n",
    "    for index in range(maximum): # Go through each index of longest list\n",
    "        temp = []\n",
    "        for lst in nested_vals: # Go through each list\n",
    "            if index < len(lst): # If not an index error\n",
    "                temp.append(lst[index])\n",
    "        output.append(np.nanmean(temp))\n",
    "    return output"
   ]
  },
  {
   "cell_type": "code",
   "execution_count": 5,
   "id": "b98fd7c2-61ad-4461-9aad-6b7326f10964",
   "metadata": {
    "execution": {
     "iopub.execute_input": "2022-12-13T09:51:36.652808Z",
     "iopub.status.busy": "2022-12-13T09:51:36.652159Z",
     "iopub.status.idle": "2022-12-13T09:51:36.670848Z",
     "shell.execute_reply": "2022-12-13T09:51:36.669270Z",
     "shell.execute_reply.started": "2022-12-13T09:51:36.652776Z"
    }
   },
   "outputs": [],
   "source": [
    "# Function for: \n",
    "# 1) extracting base quality value \n",
    "# 2) plotting average base quality value per position (relative to alignment start)\n",
    "\n",
    "def extract_base_quality(alignments):\n",
    "    \n",
    "    total = 0\n",
    "    aligned = []\n",
    "    unaligned = []\n",
    "    \n",
    "    # loop over alignments\n",
    "    for read in alignments:\n",
    "        \n",
    "        # only look primary alignments\n",
    "        if not read.is_unmapped and not read.is_secondary and not read.is_supplementary and read.seq is not None:\n",
    "            \n",
    "            quali = read.query_qualities\n",
    "            \n",
    "            # filter for antisense reads\n",
    "            if quali is not None and read.is_reverse:\n",
    "\n",
    "                start = read.query_alignment_start\n",
    "                end = read.query_alignment_end\n",
    "\n",
    "                # filter for long soft-clips\n",
    "                if start > 80:\n",
    "\n",
    "                    # aligned region\n",
    "                    aligned_qual = list(quali[start:end])\n",
    "                    aligned.append(aligned_qual)\n",
    "\n",
    "                    # unaligned (= softclip) region\n",
    "                    sc_qual = list(quali[:start])\n",
    "                    sc_qual.reverse()\n",
    "                    unaligned.append(sc_qual)\n",
    "                    \n",
    "                    # count reads\n",
    "                    total = total+1\n",
    "                    \n",
    "\n",
    "    # averaged values\n",
    "    avgAligned = avgNestedLists(aligned)\n",
    "    \n",
    "    avgUnaligned = avgNestedLists(unaligned)\n",
    "    avgUnaligned.reverse()\n",
    "\n",
    "    # base quality on Y axis\n",
    "    avg = avgUnaligned + avgAligned\n",
    "\n",
    "    # X axis values (= base position relative to alignment start)\n",
    "    xUnaligned = [i for i in range(-len(avgUnaligned), 1)]\n",
    "    xAligned = [i for i in range(0, len(avgAligned))]\n",
    "    \n",
    "    # Y axis values (= average value)\n",
    "    yUnaligned = avg[:len(avgUnaligned)+1]\n",
    "    yAligned = avg[len(avgUnaligned):]\n",
    "    \n",
    "    return total, xUnaligned, xAligned, yUnaligned, yAligned\n"
   ]
  },
  {
   "cell_type": "code",
   "execution_count": 6,
   "id": "a2f47702-9d74-42d1-a0a1-5f15ac864bec",
   "metadata": {
    "execution": {
     "iopub.execute_input": "2022-12-13T09:51:37.620097Z",
     "iopub.status.busy": "2022-12-13T09:51:37.619234Z",
     "iopub.status.idle": "2022-12-13T09:51:37.652849Z",
     "shell.execute_reply": "2022-12-13T09:51:37.647552Z",
     "shell.execute_reply.started": "2022-12-13T09:51:37.620031Z"
    }
   },
   "outputs": [],
   "source": [
    "def plotting_base_quality(xUnaligned, yUnaligned, xAligned, yAligned, total, ID, output):\n",
    "\n",
    "    %matplotlib widget\n",
    "\n",
    "    sns.set_style('whitegrid', {'axes.edgecolor': '.15', 'axes.linewidth': '1.5', \"xtick.major.size\": 8, \"ytick.major.size\": 8, \"xtick.minor.size\": 5, \"ytick.minor.size\": 5})\n",
    "\n",
    "    fig, ax = plt.subplots(figsize=(9.5,3), nrows=1, ncols=3, sharey=True)\n",
    "\n",
    "    # unaligned region\n",
    "    ax[0].plot(xUnaligned, yUnaligned, color='#658cbb', alpha=1, label='Unaligned region',linewidth=2)\n",
    "    ax[0].set_xlim(-1000,-50)\n",
    "    ax[0].tick_params(axis='y', which='both', left=True)\n",
    "    ax[0].yaxis.set_minor_locator(MultipleLocator(1))\n",
    "    ax[0].tick_params(axis='x', which='major', bottom=True)\n",
    "    ax[0].set_ylabel('Base quality score (PHRED)', weight='bold', size=12)\n",
    "\n",
    "    # transition region\n",
    "    ax[1].plot(xUnaligned[-51:], yUnaligned[-51:], color='#658cbb', alpha=1, label='Unaligned region',linewidth=2)\n",
    "    ax[1].plot(xAligned[:51], yAligned[:51], color='#856798', alpha=1, label='Aligned region', linewidth=2)\n",
    "    ax[1].vlines(0, 0, 60, 'black', alpha=1, linewidth=1.5, linestyle='dotted')\n",
    "    ax[1].set_xlim(-50, 50)\n",
    "    ax[1].tick_params(axis='x', which='major', bottom=True)\n",
    "    ax[1].set_xlabel('Base position relative to alignment start', weight='bold', size=12)\n",
    "\n",
    "    # aligned region\n",
    "    ax[2].plot(xAligned[51:], yAligned[51:], color='#856798', alpha=1, label='Aligned region',linewidth=2)\n",
    "    ax[2].set_xlim(50, 1000)\n",
    "    ax[2].tick_params(axis='x', which='major', bottom=True)\n",
    "\n",
    "    # plot settings\n",
    "    plt.ylim(0, 45)\n",
    "    plt.subplots_adjust(left=0.1, bottom=None, right=0.98, top=None, wspace=0.01, hspace=None)\n",
    "    plt.suptitle(f'{ID} (n = {total} reads)', y=0.95)\n",
    "    fig.tight_layout()\n",
    "    \n",
    "    # save plot\n",
    "    plt.savefig(output, dpi=800, bbox_inches='tight')\n",
    "    \n",
    "    plt.close()"
   ]
  },
  {
   "cell_type": "markdown",
   "id": "cac01eff-2b7d-4f0a-abfc-c34131f12c9c",
   "metadata": {},
   "source": [
    "<br>"
   ]
  },
  {
   "cell_type": "markdown",
   "id": "d8643eb6-771e-4a85-b2fc-9503f2028578",
   "metadata": {},
   "source": [
    "# Generating plots"
   ]
  },
  {
   "cell_type": "markdown",
   "id": "2a33c785-5a7c-462e-b83f-9adb97bac64b",
   "metadata": {},
   "source": [
    "The following code will generate base quality plots for each experiment ID present in **runs** \\\n",
    "Plots are not directly shown below as it is very computationally heavy.\n",
    "\n",
    "**SSP experiments:** ['SSP_1', 'SSP_2', 'SSP_3', 'SSP_4', 'SSP_5', 'SSP_6'] \\\n",
    "**SL1 experiment:** ['SL1_1'] \\\n",
    "**NP experiments:** ['NP_1', 'NP_2', 'NP_3', 'NP_4', 'NP_5']"
   ]
  },
  {
   "cell_type": "code",
   "execution_count": null,
   "id": "007b5a21-928c-4b07-97e9-1a5a76a50733",
   "metadata": {},
   "outputs": [],
   "source": [
    "runs = ['SSP_1','SSP_2', 'SSP_3', 'SSP_4', 'SSP_5', 'SSP_6', 'SL1_1','NP_1', 'NP_2', 'NP_3', 'NP_4', 'NP_5']\n",
    "\n",
    "for ID in runs:\n",
    "    \n",
    "    # open corresponding file\n",
    "    file = f'{path}/{ID}/{ID}-transcriptome_sorted.bam'\n",
    "    alignment = pysam.AlignmentFile(file,'rb')\n",
    "    \n",
    "    # measure base quality across all reads\n",
    "    total, xUnaligned, xAligned, yUnaligned, yAligned = extract_base_quality(alignment)\n",
    "    \n",
    "    # generate and save plots\n",
    "    output = f'SupFig4-average_base_quality_({ID}).pdf'\n",
    "    plotting_base_quality(xUnaligned, yUnaligned, xAligned, yAligned, total, ID, output)"
   ]
  },
  {
   "cell_type": "markdown",
   "id": "54391f5f-3fde-4718-b49c-0c3e09015281",
   "metadata": {},
   "source": [
    "<font size=\"4\">**Sup. Fig. 4:**<br></font>\n",
    "We measured the average base quality value over all the Nanopore reads obtained in each sequencing experiment. 5’ soft-clip region is represented in blue and aligned region (primary alignment) is represented in purple."
   ]
  }
 ],
 "metadata": {
  "kernelspec": {
   "display_name": "elegans_transplicing",
   "language": "python",
   "name": "elegans_transplicing"
  },
  "language_info": {
   "codemirror_mode": {
    "name": "ipython",
    "version": 3
   },
   "file_extension": ".py",
   "mimetype": "text/x-python",
   "name": "python",
   "nbconvert_exporter": "python",
   "pygments_lexer": "ipython3",
   "version": "3.7.13"
  },
  "widgets": {
   "application/vnd.jupyter.widget-state+json": {
    "state": {},
    "version_major": 2,
    "version_minor": 0
   }
  }
 },
 "nbformat": 4,
 "nbformat_minor": 5
}
